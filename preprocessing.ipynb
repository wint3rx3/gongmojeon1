{
 "cells": [
  {
   "cell_type": "code",
   "execution_count": null,
   "id": "dda64ff0",
   "metadata": {},
   "outputs": [],
   "source": [
    "import os\n",
    "import pandas as pd\n",
    "import numpy as np\n",
    "import requests\n",
    "from dotenv import load_dotenv\n",
    "from sklearn.neighbors import BallTree\n",
    "\n",
    "load_dotenv()\n",
    "KAKAO_API_KEY = os.getenv(\"KAKAO_API_KEY\")\n",
    "HEADERS = {\"Authorization\": f\"KakaoAK {KAKAO_API_KEY}\"}"
   ]
  },
  {
   "cell_type": "code",
   "execution_count": null,
   "id": "a3c7e0bd",
   "metadata": {},
   "outputs": [],
   "source": [
    "poi = pd.read_csv(\"result/카카오맵_POI.csv\")\n",
    "poi = poi.rename(columns={\"place_name\": \"name\", \"group_name\": \"category\"})\n",
    "poi[\"id\"] = [f\"kko_{i:04d}\" for i in range(len(poi))]\n",
    "poi = poi[[\"id\", \"name\", \"category\", \"x\", \"y\"]]\n",
    "\n",
    "bus = pd.read_csv(\"data/세종특별자치시_정류장정보_20250418.csv\", encoding=\"cp949\")\n",
    "bus = bus.rename(columns={\n",
    "    \"정류장 고유번호\": \"id\",\n",
    "    \"정류장 명\": \"name\",\n",
    "    \"경도\": \"x\",\n",
    "    \"위도\": \"y\"\n",
    "})\n",
    "bus[\"category\"] = \"버스정류장\"\n",
    "bus = bus[[\"id\", \"name\", \"category\", \"x\", \"y\"]]\n",
    "\n",
    "combined = pd.concat([poi, bus], ignore_index=True)\n",
    "print(\"병합 완료:\", combined.shape)\n",
    "print(\"category 종류:\", combined[\"category\"].value_counts())\n",
    "combined.to_csv(\"output/POI_버스추가.csv\", index=False, encoding=\"utf-8\")"
   ]
  },
  {
   "cell_type": "code",
   "execution_count": null,
   "id": "d202cbc2",
   "metadata": {},
   "outputs": [],
   "source": [
    "df = pd.read_csv(\"data/공공데이터포탈_세종특별자치시_POI.csv\", encoding=\"cp949\")\n",
    "df = df.drop(columns=[\"adress\"], errors=\"ignore\")\n",
    "\n",
    "def get_coords(query):\n",
    "    try:\n",
    "        url = f\"https://dapi.kakao.com/v2/local/search/keyword.json?query={query}\"\n",
    "        res = requests.get(url, headers=HEADERS)\n",
    "        result = res.json()\n",
    "        if result[\"documents\"]:\n",
    "            return result[\"documents\"][0][\"x\"], result[\"documents\"][0][\"y\"]\n",
    "    except:\n",
    "        return None, None\n",
    "    return None, None\n",
    "\n",
    "missing = df[df[\"x\"].isna() | df[\"y\"].isna()]\n",
    "print(f\"❗ 좌표 결측치 있는 항목 수: {len(missing)}\")\n",
    "\n",
    "df[\"x\"], df[\"y\"] = zip(*[\n",
    "    get_coords(name) if pd.isna(x) or pd.isna(y) else (x, y)\n",
    "    for name, x, y in zip(df[\"name\"], df[\"x\"], df[\"y\"])\n",
    "])\n",
    "\n",
    "df.to_csv(\"output/POI_좌표보완.csv\", index=False, encoding=\"utf-8\")"
   ]
  },
  {
   "cell_type": "code",
   "execution_count": null,
   "id": "3a36967b",
   "metadata": {},
   "outputs": [],
   "source": [
    "df = pd.read_csv(\"output/POI_좌표보완.csv\")\n",
    "\n",
    "print(\"📋 category 원본 종류:\", df[\"category\"].nunique())\n",
    "print(df[\"category\"].value_counts())\n",
    "\n",
    "SECOND_TO_FIRST = {\n",
    "    \"음식점\": \"음식점\", \"카페\": \"카페\", \"편의점\": \"편의점\",\n",
    "    \"병원\": \"병원\", \"공공기관\": \"공공기관\", \"문화시설\": \"문화시설\",\n",
    "    \"중개업소\": \"중개업소\", \"숙박\": \"숙박\", \"생활서비스\": \"생활서비스\"\n",
    "}\n",
    "\n",
    "FIRST_TO_CODE = {\n",
    "    \"음식점\": \"FD6\", \"카페\": \"CE7\", \"편의점\": \"CS2\",\n",
    "    \"병원\": \"HP8\", \"공공기관\": \"PO3\", \"문화시설\": \"CT1\",\n",
    "    \"중개업소\": \"AG2\", \"숙박\": \"AD5\", \"생활서비스\": \"CT1\"\n",
    "}\n",
    "\n",
    "df[\"category_2nd\"] = df[\"category\"]\n",
    "df[\"category_1st\"] = df[\"category_2nd\"].map(SECOND_TO_FIRST)\n",
    "df[\"category_code\"] = df[\"category_1st\"].map(FIRST_TO_CODE)\n",
    "\n",
    "print(\"카테고리 정제 완료\")\n",
    "print(\"1차 카테고리 종류:\", df[\"category_1st\"].value_counts())\n"
   ]
  },
  {
   "cell_type": "code",
   "execution_count": null,
   "id": "669b1148",
   "metadata": {},
   "outputs": [],
   "source": [
    "df = df.dropna(subset=[\"x\", \"y\"]).copy()\n",
    "coords = np.radians(df[[\"y\", \"x\"]].astype(float).values)\n",
    "tree = BallTree(coords, metric=\"haversine\")\n",
    "radius_km = 0.05 / 6371\n",
    "\n",
    "name_counts = df[\"name\"].value_counts()\n",
    "multi_names = name_counts[name_counts > 1].index\n",
    "dup_idx = set()\n",
    "\n",
    "for i, row in df.iterrows():\n",
    "    if row[\"name\"] not in multi_names:\n",
    "        continue\n",
    "    indices = tree.query_radius([coords[i]], r=radius_km)[0]\n",
    "    for j in indices:\n",
    "        if i >= j:\n",
    "            continue\n",
    "        if df.loc[j, \"name\"] == row[\"name\"]:\n",
    "            dup_idx.add(j)\n",
    "\n",
    "df = df.drop(index=dup_idx).reset_index(drop=True)\n",
    "print(f\"중복 제거 완료 - 남은 행 수: {len(df)}\")"
   ]
  },
  {
   "cell_type": "code",
   "execution_count": null,
   "id": "8de91b5e",
   "metadata": {},
   "outputs": [],
   "source": [
    "# 셀 6: 결과 저장\n",
    "df.to_csv(\"result/세종특별자치시_POI_최종(1).csv\", index=False, encoding=\"utf-8\")\n",
    "print(\"저장 완료: result/세종특별자치시_POI_최종.csv\")"
   ]
  }
 ],
 "metadata": {
  "kernelspec": {
   "display_name": "venv",
   "language": "python",
   "name": "python3"
  },
  "language_info": {
   "codemirror_mode": {
    "name": "ipython",
    "version": 3
   },
   "file_extension": ".py",
   "mimetype": "text/x-python",
   "name": "python",
   "nbconvert_exporter": "python",
   "pygments_lexer": "ipython3",
   "version": "3.13.3"
  }
 },
 "nbformat": 4,
 "nbformat_minor": 5
}
