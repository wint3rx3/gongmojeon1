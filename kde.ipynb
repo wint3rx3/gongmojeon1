{
 "cells": [
  {
   "cell_type": "code",
   "execution_count": null,
   "id": "ada2ad52",
   "metadata": {},
   "outputs": [],
   "source": [
    "import pandas as pd\n",
    "import geopandas as gpd\n",
    "from shapely.geometry import Point\n",
    "import numpy as np\n",
    "from sklearn.neighbors import KernelDensity\n",
    "\n",
    "# ▶ 1. POI 데이터 불러오기 및 좌표계 변환\n",
    "df_poi = pd.read_csv(\"result\\세종특별자치시_POI_최종.csv\")\n",
    "gdf_poi = gpd.GeoDataFrame(\n",
    "    df_poi,\n",
    "    geometry=gpd.points_from_xy(df_poi['x'], df_poi['y']),\n",
    "    crs=\"EPSG:4326\"\n",
    ").to_crs(epsg=5181)\n",
    "\n",
    "# ▶ 2. 어울링 대여소 데이터 불러오기\n",
    "df_bike = pd.read_csv(\"data/세종도시교통공사_공공자전거(어울링)_대여소현황_20250106.csv\", encoding=\"euc-kr\")\n",
    "\n",
    "# 위도/경도 컬럼 자동 인식 (일반적으로 lat, lon 또는 위도, 경도)\n",
    "lon_col = [col for col in df_bike.columns if 'lon' in col.lower() or '경도' in col][0]\n",
    "lat_col = [col for col in df_bike.columns if 'lat' in col.lower() or '위도' in col][0]\n",
    "\n",
    "gdf_bike = gpd.GeoDataFrame(\n",
    "    df_bike,\n",
    "    geometry=gpd.points_from_xy(df_bike[lon_col], df_bike[lat_col]),\n",
    "    crs=\"EPSG:4326\"\n",
    ").to_crs(epsg=5181)\n",
    "\n",
    "# ▶ 3. KDE 학습 (Epanechnikov 커널, 대역폭 1km)\n",
    "coords = np.vstack([gdf_poi.geometry.x, gdf_poi.geometry.y]).T\n",
    "coords = coords[~np.isnan(coords).any(axis=1)]  # NaN 제거\n",
    "coords = coords[np.all(np.isfinite(coords), axis=1)]  # inf 제거\n",
    "\n",
    "# KDE 학습\n",
    "kde = KernelDensity(kernel='epanechnikov', bandwidth=1000).fit(coords)\n",
    "\n",
    "# ▶ 4. 대여소 위치에 대한 KDE score 계산\n",
    "bike_coords = np.vstack([gdf_bike.geometry.x, gdf_bike.geometry.y]).T\n",
    "scores = np.exp(kde.score_samples(bike_coords))  # log density → 밀도\n",
    "\n",
    "# ▶ 5. 밀도 컬럼 추가 및 저장\n",
    "# 정규화된 활동지수 컬럼 추가\n",
    "gdf_bike[\"kde_density_norm\"] = (scores - scores.min()) / (scores.max() - scores.min())\n",
    "# CSV 저장\n",
    "gdf_bike.drop(columns=\"geometry\").to_csv(\"result/어울링_대여소_with_kde.csv\", index=False, encoding=\"utf-8-sig\")"
   ]
  }
 ],
 "metadata": {
  "kernelspec": {
   "display_name": "venv",
   "language": "python",
   "name": "python3"
  },
  "language_info": {
   "codemirror_mode": {
    "name": "ipython",
    "version": 3
   },
   "file_extension": ".py",
   "mimetype": "text/x-python",
   "name": "python",
   "nbconvert_exporter": "python",
   "pygments_lexer": "ipython3",
   "version": "3.13.3"
  }
 },
 "nbformat": 4,
 "nbformat_minor": 5
}
